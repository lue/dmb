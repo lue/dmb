{
 "cells": [
  {
   "cell_type": "markdown",
   "metadata": {},
   "source": [
    "# Single Halo Bossting factor evaluation\n",
    "\n",
    "\n",
    "For pessimistic model we adopt standard NFW \\cite{1997ApJ...490..493N}. In the realistic and optimistic scenario stteper inner slope can increase boosting factor. Therefore we also use modified NFW profile can be written as:\n",
    "\\begin{equation}\n",
    "\\rho(r) = \\dfrac{\\rho_0}{(r/r_S)^\\alpha(1+r/r_S)^{(3-\\alpha)}},\n",
    "\\end{equation}\n",
    "where an additional parameter \\alpha emerges. For standard NFW $\\alpha=1$."
   ]
  },
  {
   "cell_type": "code",
   "execution_count": 1,
   "metadata": {
    "collapsed": false
   },
   "outputs": [],
   "source": [
    "%matplotlib inline\n",
    "from colossus.Cosmology import *\n",
    "from colossus.HaloConcentration import *\n",
    "from colossus.HaloDensityProfile import *\n",
    "import numpy as np\n",
    "import matplotlib.pyplot as plt\n",
    "from scipy.special import betainc\n",
    "\n",
    "from dmb.single_halo import *\n",
    "\n",
    "setCosmology('planck13')\n",
    "cosmo = getCurrent()"
   ]
  },
  {
   "cell_type": "code",
   "execution_count": 2,
   "metadata": {
    "collapsed": false
   },
   "outputs": [
    {
     "name": "stdout",
     "output_type": "stream",
     "text": [
      "Halo mass:  -6.0 ; Redshift:  30 ; Concentration:  2.91462869355 ; Inner slope (alpha):  1.461\n",
      "Numerical  boosting factor:  241.369344404\n",
      "Analytical boosting factor (for alpha=1):  7.15289939013\n"
     ]
    },
    {
     "data": {
      "text/plain": [
       "<matplotlib.text.Text at 0x16165898>"
      ]
     },
     "execution_count": 2,
     "metadata": {},
     "output_type": "execute_result"
    },
    {
     "data": {
      "image/png": "[encoded data removed]",
      "text/plain": [
       "<matplotlib.figure.Figure at 0x3ed0ac8>"
      ]
     },
     "metadata": {},
     "output_type": "display_data"
    }
   ],
   "source": [
    "M = 1e-6# in Solar masses\n",
    "z = 30   # redshift\n",
    "c = concentration(M, 'vir', z, model='diemer15')\n",
    "alpha = IshiyamaAlpha(M)\n",
    "\n",
    "rhom = (AST_rho_crit_0_kpc3*cosmo.Om0*(1.+z)**3)\n",
    "\n",
    "delta_list = np.logspace(0, 24, 330)\n",
    "profile = NFWProfile(M=M, mdef='vir', z=z, c=c)\n",
    "rho0, rs = profile.fundamentalParameters(M, c, z, 'vir')\n",
    "Rmax= c*rs\n",
    "R = np.logspace(np.log10(Rmax)-24, np.log10(Rmax), 100000)\n",
    "rho = NFWa(R, rs, rho0, alpha=alpha)\n",
    "V = np.concatenate([[0], 4./3.*np.pi*R**3])\n",
    "V = np.diff(V)\n",
    "rho2V = rho**2*V\n",
    "rho0, rs = profile.fundamentalParameters(M, c, z, 'vir')\n",
    "V = 4./3.*np.pi*(c*rs)**3\n",
    "\n",
    "B_nu = HaloBoost(z, M, c, alpha)\n",
    "B_an = rho0**2 / c**3  * V**2 / M**2\n",
    "\n",
    "print 'Halo mass: ', np.log10(M), '; Redshift: ', z, '; Concentration: ', c, '; Inner slope (alpha): ', alpha\n",
    "print 'Numerical  boosting factor: ', B_nu\n",
    "print 'Analytical boosting factor (for alpha=1): ', B_an\n",
    "\n",
    "plt.hist(rho/rhom, bins=delta_list, weights=rho2V, histtype='step')\n",
    "plt.xscale('log')\n",
    "# plt.yscale('log')\n",
    "plt.xlabel(r'$\\delta$')\n",
    "plt.ylabel(r'$\\mathrm{contribution\\;to\\;the\\;total\\;signal}$')"
   ]
  },
  {
   "cell_type": "markdown",
   "metadata": {},
   "source": [
    "## Average boosting factor for a halo of given mass with some scatter in concentration"
   ]
  },
  {
   "cell_type": "code",
   "execution_count": 3,
   "metadata": {
    "collapsed": false
   },
   "outputs": [
    {
     "name": "stdout",
     "output_type": "stream",
     "text": [
      "309.105959178\n",
      "241.369344404\n"
     ]
    }
   ],
   "source": [
    "print HaloBoost_c(z, M, c, alpha, 0.2)\n",
    "print HaloBoost(z, M, c, alpha)"
   ]
  }
 ],
 "metadata": {
  "kernelspec": {
   "display_name": "Python 2",
   "language": "python",
   "name": "python2"
  },
  "language_info": {
   "codemirror_mode": {
    "name": "ipython",
    "version": 2
   },
   "file_extension": ".py",
   "mimetype": "text/x-python",
   "name": "python",
   "nbconvert_exporter": "python",
   "pygments_lexer": "ipython2",
   "version": "2.7.10"
  }
 },
 "nbformat": 4,
 "nbformat_minor": 0
}
