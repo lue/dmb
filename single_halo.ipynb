{
 "cells": [
  {
   "cell_type": "markdown",
   "metadata": {},
   "source": [
    "# Single Halo Bossting factor evaluation\n",
    "\n",
    "\n",
    "For pessimistic model we adopt standard NFW \\cite{1997ApJ...490..493N}. In the realistic and optimistic scenario stteper inner slope can increase boosting factor. Therefore we also use modified NFW profile can be written as:\n",
    "\\begin{equation}\n",
    "\\rho(r) = \\dfrac{\\rho_0}{(r/r_S)^\\alpha(1+r/r_S)^{(3-\\alpha)}},\n",
    "\\end{equation}\n",
    "where an additional parameter \\alpha emerges. For standard NFW $\\alpha=1$.\n",
    "\n",
    "The boosting factor can be evaluated analytically for this profile:\n",
    "\\begin{equation}\n",
    "B(c) = \\frac{c^3 \\left(-\\left(c^3 (-c)^{-2 \\alpha} (c+1)^{2 \\alpha-5} \\left(2 \\alpha^2-2 \\alpha c-9 \\alpha+c^2+5 c+10\\right)\\right)\\right)}{\\left(4 \\alpha^3-24 \\alpha^2+47 \\alpha-30\\right) \\rm{B}_{-c}(3-\\alpha,\\alpha-2){}^2},\n",
    "\\end{equation}\n",
    "where $\\rm{B}$ is the incomplete beta function.\n",
    "\n"
   ]
  },
  {
   "cell_type": "code",
   "execution_count": 105,
   "metadata": {
    "collapsed": false
   },
   "outputs": [],
   "source": [
    "%matplotlib inline\n",
    "from colossus.Cosmology import *\n",
    "from colossus.HaloConcentration import *\n",
    "from colossus.HaloDensityProfile import *\n",
    "import numpy as np\n",
    "import matplotlib.pyplot as plt\n",
    "from scipy.special import betainc\n",
    "\n",
    "setCosmology('planck13')\n",
    "cosmo = getCurrent()\n",
    "\n",
    "def NFWa(r,rs,rho0,alpha=1):\n",
    "    '''\n",
    "    Modified NFW profile (double power law). Used to describe profiles in the smallest halos (Ishiyama 2014)\n",
    "    '''\n",
    "    return rho0 * (r/rs)**-alpha * (1.0+r/rs)**(alpha-3.0)\n",
    "\n",
    "\n",
    "def IshiyamaAlpha(M):\n",
    "    '''\n",
    "    Fitting function for alpha (parameter for modified NFW) from Ishiyama 2014:\n",
    "    http://adsabs.harvard.edu/abs/2014ApJ...788...27I\n",
    "    :param M: Virial mass of a halo in solar masses.\n",
    "    :return: alpha (inner slope)\n",
    "    '''\n",
    "    alpha = -0.123*np.log10(M/1e-6)+1.461\n",
    "    if isinstance(alpha, float):\n",
    "        return np.max([1.0,alpha])\n",
    "    else:\n",
    "        alpha[alpha<1]=1.\n",
    "        return alpha\n"
   ]
  },
  {
   "cell_type": "code",
   "execution_count": 182,
   "metadata": {
    "collapsed": false
   },
   "outputs": [
    {
     "name": "stdout",
     "output_type": "stream",
     "text": [
      "Halo mass:  -7.0 ; Redshift:  30 ; Concentration:  2.99630267163 ; Inner slope (alpha):  1.584\n",
      "Numerical  boosting factor:  1247770.58607\n",
      "Analytical boosting factor (for alpha=1):  7.39853155347\n"
     ]
    },
    {
     "data": {
      "text/plain": [
       "<matplotlib.text.Text at 0x257638d0>"
      ]
     },
     "execution_count": 182,
     "metadata": {},
     "output_type": "execute_result"
    },
    {
     "data": {
      "image/png": "[encoded data removed]",
      "text/plain": [
       "<matplotlib.figure.Figure at 0x22e940f0>"
      ]
     },
     "metadata": {},
     "output_type": "display_data"
    }
   ],
   "source": [
    "M = 1e-7# in Solar masses\n",
    "z = 30   # redshift\n",
    "c = concentration(M, 'vir', z, model='diemer15')\n",
    "alpha = IshiyamaAlpha(M)\n",
    "\n",
    "delta_list = np.logspace(0, 24, 33)\n",
    "rho0, rs = profile.fundamentalParameters(M, c, z, 'vir')\n",
    "V = 4./3.*np.pi*(c*rs)**3\n",
    "\n",
    "def HaloBoost(z, M, c, alpha):\n",
    "    '''\n",
    "    Boosting factor of an individual halo\n",
    "    z : redshift of the halo\n",
    "    M : mass of the halo (in Msun)\n",
    "    c : concentration\n",
    "    alpha : inner slope\n",
    "    '''\n",
    "    profile = NFWProfile(M=M, mdef='vir', z=z, c=c)\n",
    "    rho0, rs = profile.fundamentalParameters(M, c, z, 'vir')\n",
    "    Rmax= c*rs\n",
    "    R = np.logspace(np.log10(Rmax)-24, np.log10(Rmax), 100000)\n",
    "    rhom = (AST_rho_crit_0_kpc3*cosmo.Om0*(1.+z)**3)\n",
    "    rho = NFWa(R, rs, rho0, alpha=alpha)\n",
    "    V = np.concatenate([[0], 4./3.*np.pi*R**3])\n",
    "    V = np.diff(V)\n",
    "    rho2V = rho**2*V\n",
    "    B_nu = rho2V.sum() * V.sum() / M**2\n",
    "    return B_nu\n",
    "\n",
    "B_nu = HaloBoost(z, M, c, alpha)\n",
    "B_an = rho0**2 / c**3  * V**2 / M**2\n",
    "\n",
    "print 'Halo mass: ', np.log10(M), '; Redshift: ', z, '; Concentration: ', c, '; Inner slope (alpha): ', alpha\n",
    "print 'Numerical  boosting factor: ', B_nu\n",
    "print 'Analytical boosting factor (for alpha=1): ', B_an\n",
    "\n",
    "plt.hist(rho/rhom, bins=delta_list, weights=rho2V, histtype='step')\n",
    "plt.xscale('log')\n",
    "# plt.yscale('log')\n",
    "plt.xlabel(r'$\\delta$')\n",
    "plt.ylabel(r'$\\mathrm{contribution\\;to\\;the\\;total\\;signal}$')"
   ]
  },
  {
   "cell_type": "markdown",
   "metadata": {},
   "source": [
    "## Average boosting factor for a halo of given mass with some scatter in concentration"
   ]
  },
  {
   "cell_type": "code",
   "execution_count": 181,
   "metadata": {
    "collapsed": false
   },
   "outputs": [
    {
     "name": "stdout",
     "output_type": "stream",
     "text": [
      "304.738205679\n",
      "241.369344404\n"
     ]
    }
   ],
   "source": [
    "def HaloBoost_c(z, M, c, alpha, cs):\n",
    "    '''\n",
    "    Boosting factor of an individual halo\n",
    "    z : redshift of the halo\n",
    "    M : mass of the halo (in Msun)\n",
    "    c : concentration\n",
    "    cs : concentration spread (in log10)\n",
    "    alpha : inner slope    \n",
    "    '''\n",
    "    rand_c = 10**np.random.normal(np.log10(c), cs, 1000)\n",
    "    temp = 0\n",
    "    for i in range(len(rand_c)):\n",
    "        temp += HaloBoost(z, M, rand_c[i], alpha)\n",
    "    return temp / len(rand_c)\n",
    "\n",
    "print HaloBoost_c(z, M, c, alpha, 0.2)\n",
    "print HaloBoost(z, M, c, alpha)"
   ]
  }
 ],
 "metadata": {
  "kernelspec": {
   "display_name": "Python 2",
   "language": "python",
   "name": "python2"
  },
  "language_info": {
   "codemirror_mode": {
    "name": "ipython",
    "version": 2
   },
   "file_extension": ".py",
   "mimetype": "text/x-python",
   "name": "python",
   "nbconvert_exporter": "python",
   "pygments_lexer": "ipython2",
   "version": "2.7.10"
  }
 },
 "nbformat": 4,
 "nbformat_minor": 0
}
