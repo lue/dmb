{
 "cells": [
  {
   "cell_type": "markdown",
   "metadata": {},
   "source": [
    "# Boosting factor of many halos"
   ]
  },
  {
   "cell_type": "code",
   "execution_count": 1,
   "metadata": {
    "collapsed": true
   },
   "outputs": [],
   "source": [
    "%matplotlib inline\n",
    "from colossus.Cosmology import *\n",
    "from colossus.HaloConcentration import *\n",
    "from colossus.HaloDensityProfile import *\n",
    "import numpy as np\n",
    "import matplotlib.pyplot as plt\n",
    "from scipy.special import betainc\n",
    "\n",
    "from dmb.single_halo import *\n",
    "from dmb.mass_func import *\n",
    "\n",
    "setCosmology('planck13')\n",
    "cosmo = getCurrent()"
   ]
  },
  {
   "cell_type": "code",
   "execution_count": 2,
   "metadata": {
    "collapsed": false
   },
   "outputs": [
    {
     "data": {
      "text/plain": [
       "<matplotlib.text.Text at 0x1614b828>"
      ]
     },
     "execution_count": 2,
     "metadata": {},
     "output_type": "execute_result"
    },
    {
     "data": {
      "image/png": "[encoded data removed]",
      "text/plain": [
       "<matplotlib.figure.Figure at 0x3ef5ac8>"
      ]
     },
     "metadata": {},
     "output_type": "display_data"
    }
   ],
   "source": [
    "z = 100.0\n",
    "M_list = np.logspace(-8, 5, 1e2)\n",
    "\n",
    "def myPS(M, Mcut, z, cosmo):\n",
    "    '''\n",
    "    My implementation of PS mass function\n",
    "    :param M: mass\n",
    "    :param z: redshift\n",
    "    :param cosmo: cosmology\n",
    "    :return:\n",
    "    '''\n",
    "    deltac = Cosmology.AST_delta_collapse\n",
    "    R = cosmo.lagrangianR(M)\n",
    "    sigma = cosmo.sigma(R, j=0, z=z)\n",
    "    Rup = cosmo.lagrangianR(M*1.01)\n",
    "    Rdw = cosmo.lagrangianR(M/1.01)\n",
    "    dsigmadM = - (cosmo.sigma(Rup, j=0, z=z) - cosmo.sigma(Rdw, j=0, z=z)) / (0.02 * M)\n",
    "    dndM = np.sqrt(2/np.pi) * np.exp(-deltac**2 / 2 / sigma**2) * deltac / sigma**2 * dsigmadM / M\n",
    "    return dndM * (AST_rho_crit_0_Mpc3*cosmo.Om0) * np.exp(-(M/Mcut)**-0.666) * np.gradient(M)/np.gradient(np.log10(M))\n",
    "\n",
    "def mf_Diemand(M, Mcut, cosmo):\n",
    "    return 2.8e9*(M*cosmo.h)**-1*np.exp(-(M/Mcut)**-0.666) * cosmo.h**3\n",
    "\n",
    "mf = myPS(M_list, 1e-6, z, cosmo)\n",
    "plt.plot(M_list, mf)\n",
    "plt.plot(M_list, mf_Diemand(M_list, 1e-6, cosmo))\n",
    "plt.xscale('log')\n",
    "plt.yscale('log')\n",
    "plt.xlabel(r'$M$')\n",
    "plt.ylabel(r'$dn(M)/d\\lg(M)$')"
   ]
  },
  {
   "cell_type": "code",
   "execution_count": 3,
   "metadata": {
    "collapsed": false
   },
   "outputs": [
    {
     "name": "stdout",
     "output_type": "stream",
     "text": [
      "0.235773577637\n",
      "6.36564145924e-08\n"
     ]
    }
   ],
   "source": [
    "M_list = np.logspace(-8, 10, 1e3)\n",
    "print np.trapz(mf_Diemand(M_list, 1e-6, cosmo)*M_list, np.log10(M_list)) / (AST_rho_crit_0_Mpc3*cosmo.Om0)\n",
    "print np.trapz(myPS(M_list, 1e-6, z, cosmo)*M_list, np.log10(M_list)) / (AST_rho_crit_0_Mpc3*cosmo.Om0)"
   ]
  },
  {
   "cell_type": "code",
   "execution_count": 4,
   "metadata": {
    "collapsed": false,
    "scrolled": true
   },
   "outputs": [
    {
     "name": "stdout",
     "output_type": "stream",
     "text": [
      "26099.2877874\n"
     ]
    }
   ],
   "source": [
    "R_global = 0\n",
    "M_list = np.logspace(-6, 1, 1e2)\n",
    "z=1\n",
    "\n",
    "mf = myPS(M_list, 1e-6, z, cosmo)\n",
    "\n",
    "for i in range(len(M_list)-1):\n",
    "#     print i, \n",
    "    M = M_list[i]\n",
    "    alpha = IshiyamaAlpha(M)\n",
    "    c = concentration(M, 'vir', z, model='diemer15')\n",
    "    profile = NFWProfile(M=M, mdef='vir', z=z, c=c)\n",
    "    rho0, rs = profile.fundamentalParameters(M, c, z, 'vir')\n",
    "    Rmax = c*rs\n",
    "    V = 4./3.*np.pi*Rmax**3\n",
    "    B = HaloBoost(z, M, c, alpha)\n",
    "    R_global += B * M**2 / V * mf[i] * np.diff(np.log10(M_list))[i]\n",
    "\n",
    "print R_global / ((AST_rho_crit_0_Mpc3*cosmo.Om0)**2 / (1e9 / (1+z)**3))"
   ]
  },
  {
   "cell_type": "code",
   "execution_count": 35,
   "metadata": {
    "collapsed": false
   },
   "outputs": [],
   "source": [
    "def GlobalBoosting(z, params):\n",
    "    '''\n",
    "    Global boosting factor\n",
    "    :param z: redshift\n",
    "    :param params: parameters\n",
    "    :return: boosting factor\n",
    "    '''\n",
    "    cosmo = params['cosmo']\n",
    "    Mcrit = 10**params['logMcrit']\n",
    "    Ishiyama = params['Ishiyama']\n",
    "    c_scatter = params['c_scatter']\n",
    "    M_list = 10**np.arange(params['logMcrit']-2.0, 6.01, 0.1)\n",
    "    R_global = 0\n",
    "    mf = myPS(M_list, Mcrit, z, cosmo)\n",
    "    for i in range(len(M_list)-1):\n",
    "        M = M_list[i]\n",
    "        alpha = IshiyamaAlpha(M)\n",
    "        c = concentration(M, 'vir', z, model='diemer15')\n",
    "        profile = NFWProfile(M=M, mdef='vir', z=z, c=c)\n",
    "        rho0, rs = profile.fundamentalParameters(M, c, z, 'vir')\n",
    "        Rmax = c*rs\n",
    "        V = 4./3.*np.pi*Rmax**3\n",
    "        if params['c_scatter']<1e-5:\n",
    "            B = HaloBoost(z, M, c, alpha)\n",
    "        else:\n",
    "            B = HaloBoost_c(z, M, c, alpha, params['c_scatter'])    \n",
    "        R_global += B * M**2 / V * mf[i] * np.diff(np.log10(M_list))[i]\n",
    "    return R_global / ((AST_rho_crit_0_Mpc3*cosmo.Om0)**2 / (1e9 / (1+z)**3))"
   ]
  },
  {
   "cell_type": "code",
   "execution_count": 38,
   "metadata": {
    "collapsed": false
   },
   "outputs": [
    {
     "data": {
      "text/plain": [
       "66.940308771224764"
      ]
     },
     "execution_count": 38,
     "metadata": {},
     "output_type": "execute_result"
    }
   ],
   "source": [
    "params = {'logMcrit': -6, 'Ishiyama': True, 'c_scatter': 0.2, 'cosmo': cosmo}\n",
    "GlobalBoosting(50.0, params)"
   ]
  },
  {
   "cell_type": "code",
   "execution_count": 45,
   "metadata": {
    "collapsed": false
   },
   "outputs": [
    {
     "name": "stdout",
     "output_type": "stream",
     "text": [
      "0 1 2 3 4 5 6 7 8 9 10 11 12 13 14 15 16 17 18 19 20 21 22 23 24 25 26 27 28 29 30 31 32 33 34 35 36 37 38 39 40 41 42 43 44 45 46 47 48 49 50 51 52 53 54 55 56 57 58 59 60 61 62 63 64 65 66 67 68 69 70 71 72 73 74 75 76"
     ]
    },
    {
     "ename": "Exception",
     "evalue": "z = 200.92 outside range (max. z is 200.01).",
     "output_type": "error",
     "traceback": [
      "\u001b[1;31m---------------------------------------------------------------------------\u001b[0m",
      "\u001b[1;31mException\u001b[0m                                 Traceback (most recent call last)",
      "\u001b[1;32m<ipython-input-45-b5953805caf9>\u001b[0m in \u001b[0;36m<module>\u001b[1;34m()\u001b[0m\n\u001b[0;32m      5\u001b[0m \u001b[1;32mfor\u001b[0m \u001b[0mi\u001b[0m \u001b[1;32min\u001b[0m \u001b[0mrange\u001b[0m\u001b[1;33m(\u001b[0m\u001b[0mlen\u001b[0m\u001b[1;33m(\u001b[0m\u001b[0mz_list\u001b[0m\u001b[1;33m)\u001b[0m\u001b[1;33m)\u001b[0m\u001b[1;33m:\u001b[0m\u001b[1;33m\u001b[0m\u001b[0m\n\u001b[0;32m      6\u001b[0m     \u001b[1;32mprint\u001b[0m \u001b[0mi\u001b[0m\u001b[1;33m,\u001b[0m\u001b[1;33m\u001b[0m\u001b[0m\n\u001b[1;32m----> 7\u001b[1;33m     \u001b[0mB_list\u001b[0m\u001b[1;33m[\u001b[0m\u001b[0mi\u001b[0m\u001b[1;33m]\u001b[0m \u001b[1;33m=\u001b[0m \u001b[0mGlobalBoosting\u001b[0m\u001b[1;33m(\u001b[0m\u001b[0mz_list\u001b[0m\u001b[1;33m[\u001b[0m\u001b[0mi\u001b[0m\u001b[1;33m]\u001b[0m\u001b[1;33m,\u001b[0m \u001b[0mparams\u001b[0m\u001b[1;33m)\u001b[0m\u001b[1;33m\u001b[0m\u001b[0m\n\u001b[0m",
      "\u001b[1;32m<ipython-input-35-e5427ba9ad80>\u001b[0m in \u001b[0;36mGlobalBoosting\u001b[1;34m(z, params)\u001b[0m\n\u001b[0;32m     12\u001b[0m     \u001b[0mM_list\u001b[0m \u001b[1;33m=\u001b[0m \u001b[1;36m10\u001b[0m\u001b[1;33m**\u001b[0m\u001b[0mnp\u001b[0m\u001b[1;33m.\u001b[0m\u001b[0marange\u001b[0m\u001b[1;33m(\u001b[0m\u001b[0mparams\u001b[0m\u001b[1;33m[\u001b[0m\u001b[1;34m'logMcrit'\u001b[0m\u001b[1;33m]\u001b[0m\u001b[1;33m-\u001b[0m\u001b[1;36m2.0\u001b[0m\u001b[1;33m,\u001b[0m \u001b[1;36m6.01\u001b[0m\u001b[1;33m,\u001b[0m \u001b[1;36m0.1\u001b[0m\u001b[1;33m)\u001b[0m\u001b[1;33m\u001b[0m\u001b[0m\n\u001b[0;32m     13\u001b[0m     \u001b[0mR_global\u001b[0m \u001b[1;33m=\u001b[0m \u001b[1;36m0\u001b[0m\u001b[1;33m\u001b[0m\u001b[0m\n\u001b[1;32m---> 14\u001b[1;33m     \u001b[0mmf\u001b[0m \u001b[1;33m=\u001b[0m \u001b[0mmyPS\u001b[0m\u001b[1;33m(\u001b[0m\u001b[0mM_list\u001b[0m\u001b[1;33m,\u001b[0m \u001b[0mMcrit\u001b[0m\u001b[1;33m,\u001b[0m \u001b[0mz\u001b[0m\u001b[1;33m,\u001b[0m \u001b[0mcosmo\u001b[0m\u001b[1;33m)\u001b[0m\u001b[1;33m\u001b[0m\u001b[0m\n\u001b[0m\u001b[0;32m     15\u001b[0m     \u001b[1;32mfor\u001b[0m \u001b[0mi\u001b[0m \u001b[1;32min\u001b[0m \u001b[0mrange\u001b[0m\u001b[1;33m(\u001b[0m\u001b[0mlen\u001b[0m\u001b[1;33m(\u001b[0m\u001b[0mM_list\u001b[0m\u001b[1;33m)\u001b[0m\u001b[1;33m-\u001b[0m\u001b[1;36m1\u001b[0m\u001b[1;33m)\u001b[0m\u001b[1;33m:\u001b[0m\u001b[1;33m\u001b[0m\u001b[0m\n\u001b[0;32m     16\u001b[0m         \u001b[0mM\u001b[0m \u001b[1;33m=\u001b[0m \u001b[0mM_list\u001b[0m\u001b[1;33m[\u001b[0m\u001b[0mi\u001b[0m\u001b[1;33m]\u001b[0m\u001b[1;33m\u001b[0m\u001b[0m\n",
      "\u001b[1;32m<ipython-input-2-30a5e954922f>\u001b[0m in \u001b[0;36mmyPS\u001b[1;34m(M, Mcut, z, cosmo)\u001b[0m\n\u001b[0;32m     12\u001b[0m     \u001b[0mdeltac\u001b[0m \u001b[1;33m=\u001b[0m \u001b[0mCosmology\u001b[0m\u001b[1;33m.\u001b[0m\u001b[0mAST_delta_collapse\u001b[0m\u001b[1;33m\u001b[0m\u001b[0m\n\u001b[0;32m     13\u001b[0m     \u001b[0mR\u001b[0m \u001b[1;33m=\u001b[0m \u001b[0mcosmo\u001b[0m\u001b[1;33m.\u001b[0m\u001b[0mlagrangianR\u001b[0m\u001b[1;33m(\u001b[0m\u001b[0mM\u001b[0m\u001b[1;33m)\u001b[0m\u001b[1;33m\u001b[0m\u001b[0m\n\u001b[1;32m---> 14\u001b[1;33m     \u001b[0msigma\u001b[0m \u001b[1;33m=\u001b[0m \u001b[0mcosmo\u001b[0m\u001b[1;33m.\u001b[0m\u001b[0msigma\u001b[0m\u001b[1;33m(\u001b[0m\u001b[0mR\u001b[0m\u001b[1;33m,\u001b[0m \u001b[0mj\u001b[0m\u001b[1;33m=\u001b[0m\u001b[1;36m0\u001b[0m\u001b[1;33m,\u001b[0m \u001b[0mz\u001b[0m\u001b[1;33m=\u001b[0m\u001b[0mz\u001b[0m\u001b[1;33m)\u001b[0m\u001b[1;33m\u001b[0m\u001b[0m\n\u001b[0m\u001b[0;32m     15\u001b[0m     \u001b[0mRup\u001b[0m \u001b[1;33m=\u001b[0m \u001b[0mcosmo\u001b[0m\u001b[1;33m.\u001b[0m\u001b[0mlagrangianR\u001b[0m\u001b[1;33m(\u001b[0m\u001b[0mM\u001b[0m\u001b[1;33m*\u001b[0m\u001b[1;36m1.01\u001b[0m\u001b[1;33m)\u001b[0m\u001b[1;33m\u001b[0m\u001b[0m\n\u001b[0;32m     16\u001b[0m     \u001b[0mRdw\u001b[0m \u001b[1;33m=\u001b[0m \u001b[0mcosmo\u001b[0m\u001b[1;33m.\u001b[0m\u001b[0mlagrangianR\u001b[0m\u001b[1;33m(\u001b[0m\u001b[0mM\u001b[0m\u001b[1;33m/\u001b[0m\u001b[1;36m1.01\u001b[0m\u001b[1;33m)\u001b[0m\u001b[1;33m\u001b[0m\u001b[0m\n",
      "\u001b[1;32mC:\\Anaconda\\lib\\site-packages\\colossus\\Cosmology.pyc\u001b[0m in \u001b[0;36msigma\u001b[1;34m(self, R, j, z, inverse, derivative, Pk_source, filt)\u001b[0m\n\u001b[0;32m   2303\u001b[0m                                         \u001b[0mret\u001b[0m \u001b[1;33m=\u001b[0m \u001b[1;36m10\u001b[0m\u001b[1;33m**\u001b[0m\u001b[0mret\u001b[0m\u001b[1;33m\u001b[0m\u001b[0m\n\u001b[0;32m   2304\u001b[0m                                         \u001b[1;32mif\u001b[0m \u001b[0mz\u001b[0m \u001b[1;33m>\u001b[0m \u001b[1;36m1E-5\u001b[0m\u001b[1;33m:\u001b[0m\u001b[1;33m\u001b[0m\u001b[0m\n\u001b[1;32m-> 2305\u001b[1;33m                                                 \u001b[0mret\u001b[0m \u001b[1;33m*=\u001b[0m \u001b[0mself\u001b[0m\u001b[1;33m.\u001b[0m\u001b[0mgrowthFactor\u001b[0m\u001b[1;33m(\u001b[0m\u001b[0mz\u001b[0m\u001b[1;33m)\u001b[0m\u001b[1;33m\u001b[0m\u001b[0m\n\u001b[0m\u001b[0;32m   2306\u001b[0m \u001b[1;33m\u001b[0m\u001b[0m\n\u001b[0;32m   2307\u001b[0m                         \u001b[1;32melse\u001b[0m\u001b[1;33m:\u001b[0m\u001b[1;33m\u001b[0m\u001b[0m\n",
      "\u001b[1;32mC:\\Anaconda\\lib\\site-packages\\colossus\\Cosmology.pyc\u001b[0m in \u001b[0;36mgrowthFactor\u001b[1;34m(self, z, derivative, inverse)\u001b[0m\n\u001b[0;32m   1637\u001b[0m \u001b[1;33m\u001b[0m\u001b[0m\n\u001b[0;32m   1638\u001b[0m \t\tD = self._zFunction('growthfactor', self._growthFactorExact, z, derivative = derivative, \\\n\u001b[1;32m-> 1639\u001b[1;33m \t\t\t\t\t\tinverse = inverse)\n\u001b[0m\u001b[0;32m   1640\u001b[0m \u001b[1;33m\u001b[0m\u001b[0m\n\u001b[0;32m   1641\u001b[0m                 \u001b[1;32mreturn\u001b[0m \u001b[0mD\u001b[0m\u001b[1;33m\u001b[0m\u001b[0m\n",
      "\u001b[1;32mC:\\Anaconda\\lib\\site-packages\\colossus\\Cosmology.pyc\u001b[0m in \u001b[0;36m_zFunction\u001b[1;34m(self, table_name, func, z, inverse, future, derivative)\u001b[0m\n\u001b[0;32m    867\u001b[0m                                         \u001b[0mmsg\u001b[0m \u001b[1;33m=\u001b[0m \u001b[1;34m\"z = %.2f outside range (max. z is %.2f).\"\u001b[0m\u001b[0;31m \u001b[0m\u001b[0;31m\\\u001b[0m\u001b[1;33m\u001b[0m\u001b[0m\n\u001b[0;32m    868\u001b[0m                                                 \u001b[1;33m%\u001b[0m \u001b[1;33m(\u001b[0m\u001b[0mnumpy\u001b[0m\u001b[1;33m.\u001b[0m\u001b[0mmax\u001b[0m\u001b[1;33m(\u001b[0m\u001b[0mz\u001b[0m\u001b[1;33m)\u001b[0m\u001b[1;33m,\u001b[0m \u001b[0mself\u001b[0m\u001b[1;33m.\u001b[0m\u001b[0mz_max\u001b[0m\u001b[1;33m)\u001b[0m\u001b[1;33m\u001b[0m\u001b[0m\n\u001b[1;32m--> 869\u001b[1;33m                                         \u001b[1;32mraise\u001b[0m \u001b[0mException\u001b[0m\u001b[1;33m(\u001b[0m\u001b[0mmsg\u001b[0m\u001b[1;33m)\u001b[0m\u001b[1;33m\u001b[0m\u001b[0m\n\u001b[0m\u001b[0;32m    870\u001b[0m \u001b[1;33m\u001b[0m\u001b[0m\n\u001b[0;32m    871\u001b[0m                         \u001b[0mret\u001b[0m \u001b[1;33m=\u001b[0m \u001b[0minterpolator\u001b[0m\u001b[1;33m(\u001b[0m\u001b[0mz\u001b[0m\u001b[1;33m,\u001b[0m \u001b[0mnu\u001b[0m \u001b[1;33m=\u001b[0m \u001b[0mderivative\u001b[0m\u001b[1;33m)\u001b[0m\u001b[1;33m\u001b[0m\u001b[0m\n",
      "\u001b[1;31mException\u001b[0m: z = 200.92 outside range (max. z is 200.01)."
     ]
    }
   ],
   "source": [
    "z_list = np.logspace(0, 3, 100)\n",
    "B_list = np.zeros(len(z_list))\n",
    "params = {'logMcrit': -6, 'Ishiyama': True, 'c_scatter': 0, 'cosmo': cosmo}\n",
    "\n",
    "for i in range(len(z_list)):\n",
    "    print i,\n",
    "    B_list[i] = GlobalBoosting(z_list[i], params)"
   ]
  },
  {
   "cell_type": "code",
   "execution_count": 64,
   "metadata": {
    "collapsed": false
   },
   "outputs": [
    {
     "data": {
      "image/png": "[encoded data removed]",
      "text/plain": [
       "<matplotlib.figure.Figure at 0x179556d8>"
      ]
     },
     "metadata": {},
     "output_type": "display_data"
    }
   ],
   "source": [
    "def CLfit(z):\n",
    "    return 1.0+4e4*z**-1.06*np.exp(-(z/32)**2)\n",
    "\n",
    "plt.plot(z_list, B_list+1)\n",
    "plt.plot(z_list, CLfit(z_list))\n",
    "plt.xscale('log')\n",
    "plt.yscale('log')"
   ]
  }
 ],
 "metadata": {
  "kernelspec": {
   "display_name": "Python 2",
   "language": "python",
   "name": "python2"
  },
  "language_info": {
   "codemirror_mode": {
    "name": "ipython",
    "version": 2
   },
   "file_extension": ".py",
   "mimetype": "text/x-python",
   "name": "python",
   "nbconvert_exporter": "python",
   "pygments_lexer": "ipython2",
   "version": "2.7.10"
  }
 },
 "nbformat": 4,
 "nbformat_minor": 0
}
